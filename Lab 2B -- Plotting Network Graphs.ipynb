{
 "cells": [
  {
   "cell_type": "markdown",
   "metadata": {},
   "source": [
    "# Agenda:\n",
    "> - Introduction to Pandas Dataframe for Reading of CSV File\n",
    "> - Reading TSV/CSV files in Pandas and making Graph from them\n",
    "> - Making Sense of Nodes and Edges, Directed and Undirected Graph\n",
    "> - Plots:\n",
    "    - Degree Histogram for the Network\n",
    "    - Degree Distribution for the Network\n",
    "    - Clustering Co-efficient for the Network\n",
    "    - Nearest Neighbour vs Degree for the Network"
   ]
  },
  {
   "cell_type": "markdown",
   "metadata": {},
   "source": [
    "## Introduction to Pandas: Data Management Library with Python.\n",
    "> -  DataFrame can be seen as a table of data, i.e. a single set of formatted two-dimensional data"
   ]
  },
  {
   "cell_type": "code",
   "execution_count": 1,
   "metadata": {},
   "outputs": [],
   "source": [
    "import pandas as pd"
   ]
  },
  {
   "cell_type": "markdown",
   "metadata": {},
   "source": [
    "### Manually Entering Data"
   ]
  },
  {
   "cell_type": "code",
   "execution_count": 2,
   "metadata": {},
   "outputs": [
    {
     "data": {
      "text/html": [
       "<div>\n",
       "<style scoped>\n",
       "    .dataframe tbody tr th:only-of-type {\n",
       "        vertical-align: middle;\n",
       "    }\n",
       "\n",
       "    .dataframe tbody tr th {\n",
       "        vertical-align: top;\n",
       "    }\n",
       "\n",
       "    .dataframe thead th {\n",
       "        text-align: right;\n",
       "    }\n",
       "</style>\n",
       "<table border=\"1\" class=\"dataframe\">\n",
       "  <thead>\n",
       "    <tr style=\"text-align: right;\">\n",
       "      <th></th>\n",
       "      <th>a_Integers</th>\n",
       "      <th>b_Strings</th>\n",
       "      <th>c_Floats</th>\n",
       "    </tr>\n",
       "  </thead>\n",
       "  <tbody>\n",
       "    <tr>\n",
       "      <th>0</th>\n",
       "      <td>1</td>\n",
       "      <td>String1</td>\n",
       "      <td>0.1</td>\n",
       "    </tr>\n",
       "    <tr>\n",
       "      <th>1</th>\n",
       "      <td>2</td>\n",
       "      <td>String2</td>\n",
       "      <td>1.2</td>\n",
       "    </tr>\n",
       "    <tr>\n",
       "      <th>2</th>\n",
       "      <td>3</td>\n",
       "      <td>String3</td>\n",
       "      <td>0.3</td>\n",
       "    </tr>\n",
       "    <tr>\n",
       "      <th>3</th>\n",
       "      <td>4</td>\n",
       "      <td>String4</td>\n",
       "      <td>0.4</td>\n",
       "    </tr>\n",
       "    <tr>\n",
       "      <th>4</th>\n",
       "      <td>5</td>\n",
       "      <td>String5</td>\n",
       "      <td>0.5</td>\n",
       "    </tr>\n",
       "  </tbody>\n",
       "</table>\n",
       "</div>"
      ],
      "text/plain": [
       "   a_Integers b_Strings c_Floats\n",
       "0           1   String1      0.1\n",
       "1           2   String2      1.2\n",
       "2           3   String3      0.3\n",
       "3           4   String4      0.4\n",
       "4           5   String5      0.5"
      ]
     },
     "execution_count": 2,
     "metadata": {},
     "output_type": "execute_result"
    }
   ],
   "source": [
    "test_dataFrame = pd.DataFrame(\n",
    "                        {\n",
    "                            \"a_Integers\":[1,2,3,4,5],\n",
    "                            \"b_Strings\":[\"String1\",\"String2\",\"String3\",\"String4\",\"String5\"],\n",
    "                            \"c_Floats\":[\"0.1\",\"1.2\",\"0.3\",\"0.4\",\"0.5\"]\n",
    "                        }\n",
    "                )\n",
    "test_dataFrame"
   ]
  },
  {
   "cell_type": "markdown",
   "metadata": {},
   "source": [
    "### Loading Data from CSV File into Pandas Dataframe\n",
    "\n",
    "Link to FB ego network dataset.\n",
    "http://konect.uni-koblenz.de/networks/ego-facebook\n",
    "\n",
    "Download the dataset and understand it.\n",
    "\n",
    "**Note**: Move the dataset to a folder named `resources` in the project root directory. Also, remove the first 2 lines from `out.ego-facebook` file."
   ]
  },
  {
   "cell_type": "code",
   "execution_count": 3,
   "metadata": {},
   "outputs": [
    {
     "data": {
      "text/html": [
       "<div>\n",
       "<style scoped>\n",
       "    .dataframe tbody tr th:only-of-type {\n",
       "        vertical-align: middle;\n",
       "    }\n",
       "\n",
       "    .dataframe tbody tr th {\n",
       "        vertical-align: top;\n",
       "    }\n",
       "\n",
       "    .dataframe thead th {\n",
       "        text-align: right;\n",
       "    }\n",
       "</style>\n",
       "<table border=\"1\" class=\"dataframe\">\n",
       "  <thead>\n",
       "    <tr style=\"text-align: right;\">\n",
       "      <th></th>\n",
       "      <th>0</th>\n",
       "      <th>1</th>\n",
       "    </tr>\n",
       "  </thead>\n",
       "  <tbody>\n",
       "    <tr>\n",
       "      <th>0</th>\n",
       "      <td>1</td>\n",
       "      <td>2</td>\n",
       "    </tr>\n",
       "    <tr>\n",
       "      <th>1</th>\n",
       "      <td>1</td>\n",
       "      <td>3</td>\n",
       "    </tr>\n",
       "    <tr>\n",
       "      <th>2</th>\n",
       "      <td>1</td>\n",
       "      <td>4</td>\n",
       "    </tr>\n",
       "    <tr>\n",
       "      <th>3</th>\n",
       "      <td>1</td>\n",
       "      <td>5</td>\n",
       "    </tr>\n",
       "    <tr>\n",
       "      <th>4</th>\n",
       "      <td>1</td>\n",
       "      <td>6</td>\n",
       "    </tr>\n",
       "  </tbody>\n",
       "</table>\n",
       "</div>"
      ],
      "text/plain": [
       "   0  1\n",
       "0  1  2\n",
       "1  1  3\n",
       "2  1  4\n",
       "3  1  5\n",
       "4  1  6"
      ]
     },
     "execution_count": 3,
     "metadata": {},
     "output_type": "execute_result"
    }
   ],
   "source": [
    "# sep: the separateor in the File.\n",
    "#header: the number of Rows you need to keep as Header and want to skip, can give multiple rows to skip[0,1]\n",
    "facebookDf = pd.read_csv('resources/ego-facebook/out.ego-facebook', sep=' ', header=None)\n",
    "facebookDf.head()"
   ]
  },
  {
   "cell_type": "markdown",
   "metadata": {},
   "source": [
    "## Making sense of this Data\n",
    "### Metadata:\n",
    "> - NODE: A node represents a user. \n",
    "> - EDGE: Left Node is a friend of the user represented by the right node.\n",
    "> - Friend - User Relation : Name the Dataframe to remove confusion\n",
    "> - Undirected Network\n"
   ]
  },
  {
   "cell_type": "code",
   "execution_count": 4,
   "metadata": {},
   "outputs": [
    {
     "data": {
      "text/html": [
       "<div>\n",
       "<style scoped>\n",
       "    .dataframe tbody tr th:only-of-type {\n",
       "        vertical-align: middle;\n",
       "    }\n",
       "\n",
       "    .dataframe tbody tr th {\n",
       "        vertical-align: top;\n",
       "    }\n",
       "\n",
       "    .dataframe thead th {\n",
       "        text-align: right;\n",
       "    }\n",
       "</style>\n",
       "<table border=\"1\" class=\"dataframe\">\n",
       "  <thead>\n",
       "    <tr style=\"text-align: right;\">\n",
       "      <th></th>\n",
       "      <th>Friend</th>\n",
       "      <th>User</th>\n",
       "    </tr>\n",
       "  </thead>\n",
       "  <tbody>\n",
       "    <tr>\n",
       "      <th>0</th>\n",
       "      <td>1</td>\n",
       "      <td>2</td>\n",
       "    </tr>\n",
       "    <tr>\n",
       "      <th>1</th>\n",
       "      <td>1</td>\n",
       "      <td>3</td>\n",
       "    </tr>\n",
       "    <tr>\n",
       "      <th>2</th>\n",
       "      <td>1</td>\n",
       "      <td>4</td>\n",
       "    </tr>\n",
       "    <tr>\n",
       "      <th>3</th>\n",
       "      <td>1</td>\n",
       "      <td>5</td>\n",
       "    </tr>\n",
       "    <tr>\n",
       "      <th>4</th>\n",
       "      <td>1</td>\n",
       "      <td>6</td>\n",
       "    </tr>\n",
       "  </tbody>\n",
       "</table>\n",
       "</div>"
      ],
      "text/plain": [
       "   Friend  User\n",
       "0       1     2\n",
       "1       1     3\n",
       "2       1     4\n",
       "3       1     5\n",
       "4       1     6"
      ]
     },
     "execution_count": 4,
     "metadata": {},
     "output_type": "execute_result"
    }
   ],
   "source": [
    "# facebookDf = facebookDf.rename(columns={'0': 'Friend', '1': 'User'})\n",
    "facebookDf.columns = ['Friend', 'User']\n",
    "facebookDf.head()"
   ]
  },
  {
   "cell_type": "markdown",
   "metadata": {},
   "source": [
    "### Other Basic Operations on Pandas Dataframe\n",
    "    "
   ]
  },
  {
   "cell_type": "code",
   "execution_count": 5,
   "metadata": {},
   "outputs": [
    {
     "name": "stdout",
     "output_type": "stream",
     "text": [
      "Shape of Dataframe:  (2981, 2) \n",
      "\n",
      "Print First x entries:\n"
     ]
    },
    {
     "data": {
      "text/html": [
       "<div>\n",
       "<style scoped>\n",
       "    .dataframe tbody tr th:only-of-type {\n",
       "        vertical-align: middle;\n",
       "    }\n",
       "\n",
       "    .dataframe tbody tr th {\n",
       "        vertical-align: top;\n",
       "    }\n",
       "\n",
       "    .dataframe thead th {\n",
       "        text-align: right;\n",
       "    }\n",
       "</style>\n",
       "<table border=\"1\" class=\"dataframe\">\n",
       "  <thead>\n",
       "    <tr style=\"text-align: right;\">\n",
       "      <th></th>\n",
       "      <th>Friend</th>\n",
       "      <th>User</th>\n",
       "    </tr>\n",
       "  </thead>\n",
       "  <tbody>\n",
       "    <tr>\n",
       "      <th>0</th>\n",
       "      <td>1</td>\n",
       "      <td>2</td>\n",
       "    </tr>\n",
       "    <tr>\n",
       "      <th>1</th>\n",
       "      <td>1</td>\n",
       "      <td>3</td>\n",
       "    </tr>\n",
       "    <tr>\n",
       "      <th>2</th>\n",
       "      <td>1</td>\n",
       "      <td>4</td>\n",
       "    </tr>\n",
       "    <tr>\n",
       "      <th>3</th>\n",
       "      <td>1</td>\n",
       "      <td>5</td>\n",
       "    </tr>\n",
       "    <tr>\n",
       "      <th>4</th>\n",
       "      <td>1</td>\n",
       "      <td>6</td>\n",
       "    </tr>\n",
       "  </tbody>\n",
       "</table>\n",
       "</div>"
      ],
      "text/plain": [
       "   Friend  User\n",
       "0       1     2\n",
       "1       1     3\n",
       "2       1     4\n",
       "3       1     5\n",
       "4       1     6"
      ]
     },
     "execution_count": 5,
     "metadata": {},
     "output_type": "execute_result"
    }
   ],
   "source": [
    "print(\"Shape of Dataframe: \",facebookDf.shape,\"\\n\") #Rows*Column\n",
    "print(\"Print First x entries:\")\n",
    "facebookDf.head()"
   ]
  },
  {
   "cell_type": "markdown",
   "metadata": {},
   "source": [
    "# Using NetworkX Library for Plotting Network Graphs:\n",
    "> - Degree Histogram\n",
    "> - Degree Distribution\n",
    "> - Clustering Co-efficient Distribution\n",
    "> - Assortative/Disassortative Nature of Graph"
   ]
  },
  {
   "cell_type": "code",
   "execution_count": 6,
   "metadata": {},
   "outputs": [],
   "source": [
    "import networkx as nx\n",
    "import collections\n",
    "import numpy as np\n",
    "import operator\n",
    "from IPython.display import display, Math, Latex\n",
    "\n",
    "import matplotlib.pyplot as plt\n",
    "%matplotlib inline  "
   ]
  },
  {
   "cell_type": "markdown",
   "metadata": {},
   "source": [
    "#### Degree Historam:"
   ]
  },
  {
   "cell_type": "code",
   "execution_count": 7,
   "metadata": {},
   "outputs": [],
   "source": [
    "# Function for Degree Histogram:\n",
    "def plotDegreeHistogram(fbDeg,fbCnt):\n",
    "    width = 0.35       # the width of the bars\n",
    "    fig, ax = plt.subplots()\n",
    "    ax.bar(fbDeg, fbCnt,width, color='#40a6d1')\n",
    "    ax.set_yscale('log')\n",
    "    ax.set_xscale('log')\n",
    "    plt.title(\"Degree Histogram\")\n",
    "    plt.ylabel(\"Count\")\n",
    "    plt.xlabel(\"Degree\")"
   ]
  },
  {
   "cell_type": "code",
   "execution_count": 8,
   "metadata": {},
   "outputs": [],
   "source": [
    "fbFrndGraph = nx.from_pandas_edgelist(facebookDf, 'Friend', 'User') #Make the Graph from Pandas Dataframe"
   ]
  },
  {
   "cell_type": "code",
   "execution_count": 9,
   "metadata": {},
   "outputs": [
    {
     "data": {
      "image/png": "[encoded data removed]",
      "text/plain": [
       "<Figure size 432x288 with 1 Axes>"
      ]
     },
     "metadata": {},
     "output_type": "display_data"
    }
   ],
   "source": [
    "nx.spectral_layout(fbFrndGraph)\n",
    "nx.draw(fbFrndGraph, node_color='#A0CBE2',edge_color='#BB0000',with_labels=False)"
   ]
  },
  {
   "cell_type": "code",
   "execution_count": 10,
   "metadata": {},
   "outputs": [],
   "source": [
    "#Getting the Degree of all nodes: Dictionary Format ({1:1,2:3}) node:degree pairs\n",
    "# fbFrndGraph.degree()\n",
    "# len(fbFrndGraph.nodes())\n",
    "# len(fbFrndGraph.edges())"
   ]
  },
  {
   "cell_type": "code",
   "execution_count": 11,
   "metadata": {},
   "outputs": [
    {
     "name": "stdout",
     "output_type": "stream",
     "text": [
      "Degrees for x-axis:  (1, 2, 3, 4, 55, 58, 97, 139, 170, 221, 287, 481, 710, 769) \n",
      " Counts for y-axis (2790, 82, 3, 3, 1, 1, 1, 1, 1, 1, 1, 1, 1, 1)\n"
     ]
    },
    {
     "data": {
      "image/png": "[encoded data removed]",
      "text/plain": [
       "<Figure size 432x288 with 1 Axes>"
      ]
     },
     "metadata": {},
     "output_type": "display_data"
    }
   ],
   "source": [
    "fb_degree_sequence = sorted([d for n, d in fbFrndGraph.degree()])  # Degree of all nodes [1,1.......x]\n",
    "fbDegreeCount = collections.Counter(fb_degree_sequence) # Count of Degree of Nodes\n",
    "fbDeg, fbCnt = zip(*fbDegreeCount.items()) #Tuples of (Degree,Count), * \n",
    "\n",
    "print(\"Degrees for x-axis: \",fbDeg,\"\\n\",\"Counts for y-axis\", fbCnt)\n",
    "\n",
    "#For Plotting Degree Histogram:\n",
    "plotDegreeHistogram(fbDeg,fbCnt)"
   ]
  },
  {
   "cell_type": "markdown",
   "metadata": {},
   "source": [
    "### Degree Distribution:\n",
    "> - it provides probability that a randomly selected node in the network has degree P_k.\n",
    "> - p_k needs to be normalized.\n",
    "> - p_k = N_k/N\n"
   ]
  },
  {
   "cell_type": "code",
   "execution_count": 12,
   "metadata": {},
   "outputs": [],
   "source": [
    "def findDegreeDist(tempGraph):\n",
    "    dictCount = dict()\n",
    "    #**********degree of each node************\n",
    "    kDegree = dict(tempGraph.degree())\n",
    "    #**********List of all possible degrees*********\n",
    "    kValues = sorted(set(kDegree.values())) #Sorted Degree Values\n",
    "    for each in kDegree:\n",
    "        temp = kDegree[each]\n",
    "        if temp in dictCount.keys():#counting all n_k for n_k/N\n",
    "            dictCount[temp]+=1\n",
    "        else:\n",
    "            dictCount[temp] = 1\n",
    "    nodeDivide = nx.number_of_nodes(tempGraph)#value of N\n",
    "    for i in range(max(dictCount.keys())+1):\n",
    "        if i not in dictCount.keys():\n",
    "            dictCount[i] = 0\n",
    "    for each in dictCount.keys():#n_k/N values\n",
    "        dictCount[each] = dictCount[each] / nodeDivide\n",
    "    dictCount = collections.OrderedDict(sorted(dictCount.items()))\n",
    "    x_axis = dictCount.keys()\n",
    "    y_axis = dictCount.values()\n",
    "    return x_axis,y_axis"
   ]
  },
  {
   "cell_type": "code",
   "execution_count": 13,
   "metadata": {},
   "outputs": [],
   "source": [
    "k_xaxis,k_yaxis = findDegreeDist(fbFrndGraph)\n",
    "#k_xaxis\n",
    "# k_yaxis"
   ]
  },
  {
   "cell_type": "code",
   "execution_count": 14,
   "metadata": {},
   "outputs": [
    {
     "data": {
      "text/plain": [
       "Text(0.5,1,'Degree Dist. K')"
      ]
     },
     "execution_count": 14,
     "metadata": {},
     "output_type": "execute_result"
    },
    {
     "data": {
      "image/png": "[encoded data removed]",
      "text/plain": [
       "<Figure size 432x288 with 1 Axes>"
      ]
     },
     "metadata": {},
     "output_type": "display_data"
    }
   ],
   "source": [
    "plt.figure()\n",
    "plt.yscale('log')\n",
    "plt.xscale('log')\n",
    "plt.plot(k_xaxis,k_yaxis, label='Degree Distribution Graph',linewidth=0, marker='o',markersize=8, color='#40a6d1', alpha=.8)\n",
    "plt.legend(['Dgree Distribution'])\n",
    "plt.xlabel('Degree(k)')\n",
    "plt.ylabel('Degree Dist. P(k)')\n",
    "plt.title('Degree Dist. K')"
   ]
  },
  {
   "cell_type": "markdown",
   "metadata": {},
   "source": [
    "> - Degree Distribution uses:\n",
    "     - Functional Form of p(k) impacts many Network Phenomena, e.g Network Robustness, Spread of Viruses "
   ]
  },
  {
   "cell_type": "markdown",
   "metadata": {},
   "source": [
    "### Clustering Co-efficient:"
   ]
  },
  {
   "cell_type": "code",
   "execution_count": 15,
   "metadata": {},
   "outputs": [],
   "source": [
    "# Function for Calculating Clustering Co-efficients:----\n",
    "def clusteringCoeff(tempGraph):\n",
    "    degClusDict = dict()\n",
    "    for eachNode in tempGraph.nodes():\n",
    "        degClusDict[eachNode] = (tempGraph.degree(eachNode),nx.clustering(tempGraph,eachNode))\n",
    "#         print(type(degClusDict[eachNode]))\n",
    "    final_Dict = dict()\n",
    "#     print(degClusDict)\n",
    "    for key in degClusDict.keys():\n",
    "        if degClusDict[key][0] in final_Dict:\n",
    "#             print(degClusDict[key][1])\n",
    "            final_Dict[degClusDict[key][0]].append(degClusDict[key][1])\n",
    "        else:\n",
    "            final_Dict[degClusDict[key][0]] = [degClusDict[key][1]]\n",
    "#     print(final_Dict)\n",
    "    for key in final_Dict:\n",
    "        final_Dict[key] = float(sum(final_Dict[key]))/len(final_Dict[key])\n",
    "    return final_Dict"
   ]
  },
  {
   "cell_type": "code",
   "execution_count": 16,
   "metadata": {},
   "outputs": [],
   "source": [
    "k_Ck = clusteringCoeff(fbFrndGraph)\n",
    "# k_Ck"
   ]
  },
  {
   "cell_type": "code",
   "execution_count": 17,
   "metadata": {},
   "outputs": [],
   "source": [
    "#Calculating x-axis and y-axis for Plotting Graph\n",
    "def getXYAxis(temp_Ck,maxDegree):\n",
    "    plot_Ck_y = []\n",
    "    plot_k_x = []\n",
    "    for i in range(maxDegree+1):\n",
    "        plot_k_x.append(i)\n",
    "        if i in temp_Ck:\n",
    "            plot_Ck_y.append(temp_Ck[i])\n",
    "        else:\n",
    "            plot_Ck_y.append(float(0)) \n",
    "    return plot_k_x,plot_Ck_y"
   ]
  },
  {
   "cell_type": "code",
   "execution_count": 18,
   "metadata": {},
   "outputs": [],
   "source": [
    "k_maxDegree = max(k_Ck.items(), key=operator.itemgetter(0))[0]\n",
    "k_plot_Ck_x,k_plot_Ck_y = getXYAxis(k_Ck,k_maxDegree)"
   ]
  },
  {
   "cell_type": "code",
   "execution_count": 19,
   "metadata": {},
   "outputs": [
    {
     "data": {
      "text/plain": [
       "<matplotlib.legend.Legend at 0x7fae7a0a2e48>"
      ]
     },
     "execution_count": 19,
     "metadata": {},
     "output_type": "execute_result"
    },
    {
     "data": {
      "image/png": "[encoded data removed]",
      "text/plain": [
       "<Figure size 432x288 with 1 Axes>"
      ]
     },
     "metadata": {},
     "output_type": "display_data"
    }
   ],
   "source": [
    "plt.yscale('log')\n",
    "plt.xscale('log')\n",
    "plt.plot(k_plot_Ck_x, k_plot_Ck_y, label='Clustering Coefficient Graph',linewidth=0, marker='>',markersize=8, color='#40a6d1', alpha=.8)\n",
    "plt.title(\"Clustering Co-efficient of Friends Graph\")\n",
    "plt.ylabel(\"C(k):\")\n",
    "plt.xlabel(\"K\")\n",
    "plt.legend(['Co-efficient of Friends Graph'],loc = 'upper right')"
   ]
  },
  {
   "cell_type": "markdown",
   "metadata": {},
   "source": [
    "### Assortativity of Network:"
   ]
  },
  {
   "cell_type": "code",
   "execution_count": 20,
   "metadata": {},
   "outputs": [
    {
     "data": {
      "text/plain": [
       "{287: 2.7038327526132404,\n",
       " 1: 527.4229390681004,\n",
       " 2: 237.4268292682927,\n",
       " 3: 258.77777777777777,\n",
       " 4: 445.75,\n",
       " 481: 3.997920997920998,\n",
       " 710: 1.0140845070422535,\n",
       " 769: 1.6423927178153446,\n",
       " 221: 4.049773755656108,\n",
       " 139: 6.410071942446043,\n",
       " 97: 1.0103092783505154,\n",
       " 55: 4.490909090909091,\n",
       " 58: 1.0172413793103448,\n",
       " 170: 1.4470588235294117}"
      ]
     },
     "execution_count": 20,
     "metadata": {},
     "output_type": "execute_result"
    }
   ],
   "source": [
    "asrt_k = nx.k_nearest_neighbors(fbFrndGraph)\n",
    "maxAssrt = max(asrt_k.items(), key=operator.itemgetter(0))[0]\n",
    "asrt_k"
   ]
  },
  {
   "cell_type": "code",
   "execution_count": 21,
   "metadata": {},
   "outputs": [],
   "source": [
    "asrt_k_x_axis,asrt_k_y_axis = getXYAxis(asrt_k,maxAssrt)"
   ]
  },
  {
   "cell_type": "code",
   "execution_count": 22,
   "metadata": {},
   "outputs": [
    {
     "data": {
      "text/plain": [
       "<matplotlib.legend.Legend at 0x7fae79eaecf8>"
      ]
     },
     "execution_count": 22,
     "metadata": {},
     "output_type": "execute_result"
    },
    {
     "data": {
      "image/png": "[encoded data removed]",
      "text/plain": [
       "<Figure size 432x288 with 1 Axes>"
      ]
     },
     "metadata": {},
     "output_type": "display_data"
    }
   ],
   "source": [
    "plt.yscale('log')\n",
    "plt.xscale('log')\n",
    "plt.plot(asrt_k_x_axis, asrt_k_y_axis, label='Assortavity of Graph',linewidth=0, marker='>',markersize=8, color='#40a6d1', alpha=.8)\n",
    "plt.title(\"Average Node Connectivity vs Degree\")\n",
    "plt.ylabel(\"K_nn:\")\n",
    "plt.xlabel(\"d\")\n",
    "plt.legend(['Assortativity'])"
   ]
  },
  {
   "cell_type": "markdown",
   "metadata": {
    "collapsed": true
   },
   "source": [
    "<b> - Disassortative Network : Hubs tend to connect to small degree nodes"
   ]
  }
 ],
 "metadata": {
  "kernelspec": {
   "display_name": "Python 3",
   "language": "python",
   "name": "python3"
  },
  "language_info": {
   "codemirror_mode": {
    "name": "ipython",
    "version": 3
   },
   "file_extension": ".py",
   "mimetype": "text/x-python",
   "name": "python",
   "nbconvert_exporter": "python",
   "pygments_lexer": "ipython3",
   "version": "3.6.3"
  }
 },
 "nbformat": 4,
 "nbformat_minor": 2
}
