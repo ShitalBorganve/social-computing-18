{
 "cells": [
  {
   "cell_type": "markdown",
   "metadata": {},
   "source": [
    "# Introduction to Twitter\n",
    "\n",
    "## What is Twitter?\n",
    "Twitter is a micro-blogging social network website, where users post 280 (previously 140) characters long messages called 'Tweets'.\n",
    "\n",
    "## How does a tweet look like?"
   ]
  },
  {
   "cell_type": "code",
   "execution_count": 1,
   "metadata": {},
   "outputs": [
    {
     "data": {
      "text/html": [
       "<blockquote class=\"twitter-tweet\" data-conversation=\"none\" data-lang=\"en\">\n",
       "<p lang=\"en\" dir=\"ltr\">The perfect start for \n",
       "<a href=\"https://twitter.com/Argentina?ref_src=twsrc%5Etfw\">\n",
       "@Argentina</a> on a huge night of football. \n",
       "<a href=\"https://twitter.com/hashtag/NGAARG?src=hash&amp;ref_src=twsrc%5Etfw\">\n",
       "#NGAARG</a> 0-1 <a href=\"https://t.co/RbGhyMGBqk\">pic.twitter.com/RbGhyMGBqk</a>\n",
       "</p>&mdash; FIFA World Cup 🏆 (@FIFAWorldCup) \n",
       "<a href=\n",
       "\"https://twitter.com/FIFAWorldCup/status/1011675817624129536?ref_src=twsrc%5Etfw\">\n",
       "June 26, 2018</a>\n",
       "</blockquote>\n",
       "<script async src=\"https://platform.twitter.com/widgets.js\" charset=\"utf-8\"></script>"
      ],
      "text/plain": [
       "<IPython.core.display.HTML object>"
      ]
     },
     "metadata": {},
     "output_type": "display_data"
    }
   ],
   "source": [
    "%%html\n",
    "<blockquote class=\"twitter-tweet\" data-conversation=\"none\" data-lang=\"en\">\n",
    "<p lang=\"en\" dir=\"ltr\">The perfect start for \n",
    "<a href=\"https://twitter.com/Argentina?ref_src=twsrc%5Etfw\">\n",
    "@Argentina</a> on a huge night of football. \n",
    "<a href=\"https://twitter.com/hashtag/NGAARG?src=hash&amp;ref_src=twsrc%5Etfw\">\n",
    "#NGAARG</a> 0-1 <a href=\"https://t.co/RbGhyMGBqk\">pic.twitter.com/RbGhyMGBqk</a>\n",
    "</p>&mdash; FIFA World Cup 🏆 (@FIFAWorldCup) \n",
    "<a href=\n",
    "\"https://twitter.com/FIFAWorldCup/status/1011675817624129536?ref_src=twsrc%5Etfw\">\n",
    "June 26, 2018</a>\n",
    "</blockquote>\n",
    "<script async src=\"https://platform.twitter.com/widgets.js\" charset=\"utf-8\"></script>"
   ]
  },
  {
   "cell_type": "markdown",
   "metadata": {},
   "source": [
    "## User actions on Twitter\n",
    "\n",
    "+ Tweet -- Post a message with image/video and text within 240 characters on Twitter.\n",
    "+ Retweet -- Retweet or share a tweet made by another user within Twitter.\n",
    "+ Reply -- Post a message in respose to another user's tweet.\n",
    "+ Mentions -- Tag another user in his/her tweet or reply.\n",
    "+ Hashtag -- Another tag used to link to a topic or event.\n",
    "+ Follow -- Follow or subscribe to a user's tweets. A *Follower* is a user that follows, and the user that is being followed in *followee*.\n",
    "+ Search -- To search for tweets posted by other accounts based on a query."
   ]
  },
  {
   "cell_type": "markdown",
   "metadata": {},
   "source": [
    "## Twitter API\n",
    "Twitter provides an application programming interface (API) [[1]](#ref1). The API allows us to interact with the social media in many ways, like get user tweets, message users, search for tweets etc. \n",
    "\n",
    "### How does one use the API?\n",
    "To use the API to do any of the above mentioned actions, the user needs to create a Twitter Developer App and get the following keys:\n",
    "+ Customer Key\n",
    "+ Consumer Secret\n",
    "+ Access Token\n",
    "+ Access Token Secret\n",
    "\n",
    "These are necessary for the authentication process with the API.\n",
    "\n",
    "### How can I collect data from the API?\n",
    "The API has various endpoints to perform various actions. We will primarily be focussing on Search and Streaming.\n",
    "\n",
    "### API rate limits\n",
    "The Twitter API is rate limited in order to avoid the API hits hampering with the behaviour of the social network.\n",
    "\n",
    "### Libraries used\n",
    "+ Tweepy [[2]](#ref2)\n",
    "+ jsonpickle [[4]](#ref4)\n",
    "\n",
    "## Show me the code"
   ]
  },
  {
   "cell_type": "markdown",
   "metadata": {},
   "source": [
    "### Import library and initiate the API"
   ]
  },
  {
   "cell_type": "code",
   "execution_count": 2,
   "metadata": {},
   "outputs": [
    {
     "name": "stdout",
     "output_type": "stream",
     "text": [
      "Authentication successfull!!! :D\n"
     ]
    }
   ],
   "source": [
    "import tweepy\n",
    "\n",
    "#Consumer Key (API Key), Consumer Secret (API Secret)\n",
    "auth = tweepy.OAuthHandler('<Consumer Key>', \n",
    "                           '<Consumer Secret>')\n",
    "# Access Token, Access Token Secret\n",
    "auth.set_access_token('<Access Token>', \n",
    "                      '<Access Token Secret>')\n",
    "\n",
    "api = tweepy.API(auth)\n",
    "if (not api):\n",
    "    print(\"Authentication failed :(\")\n",
    "else:\n",
    "    print(\"Authentication successfull!!! :D\")"
   ]
  },
  {
   "cell_type": "markdown",
   "metadata": {},
   "source": [
    "### Search API\n",
    "\n",
    "#### Search Parameters [[3]](#ref3)"
   ]
  },
  {
   "cell_type": "code",
   "execution_count": 3,
   "metadata": {},
   "outputs": [],
   "source": [
    "query = '#worldcup'  # this is what we're searching for\n",
    "en_lang = 'en' # this is used to specify the language of the tweets\n",
    "popular_results = 'popular' # used to specifiy the order of tweet results. Accepted values: popular|recent|mixec\n",
    "extended_mode = 'extended' # used to tell the API not to truncate the tweet"
   ]
  },
  {
   "cell_type": "markdown",
   "metadata": {},
   "source": [
    "#### Query the endpoint"
   ]
  },
  {
   "cell_type": "code",
   "execution_count": 4,
   "metadata": {},
   "outputs": [],
   "source": [
    "search_results = api.search(q=query, lang=en_lang, result_type=popular_results, \n",
    "                            tweet_mode=extended_mode)"
   ]
  },
  {
   "cell_type": "markdown",
   "metadata": {},
   "source": [
    "#### Print the result"
   ]
  },
  {
   "cell_type": "code",
   "execution_count": null,
   "metadata": {},
   "outputs": [],
   "source": [
    "from pprint import pprint\n",
    "\n",
    "print_till = 5\n",
    "counter = 0\n",
    "for tweet in search_results:\n",
    "    if counter < print_till:\n",
    "        pprint(tweet._json)\n",
    "        print('--------------------------------------------------------')\n",
    "        counter += 1"
   ]
  },
  {
   "cell_type": "markdown",
   "metadata": {},
   "source": [
    "### Save the tweets\n",
    "#### Import the library and specify the file name"
   ]
  },
  {
   "cell_type": "code",
   "execution_count": 6,
   "metadata": {},
   "outputs": [],
   "source": [
    "import jsonpickle\n",
    "\n",
    "file_name = 'search_tweets.json'"
   ]
  },
  {
   "cell_type": "markdown",
   "metadata": {},
   "source": [
    "#### Iterate through search results and save the tweet"
   ]
  },
  {
   "cell_type": "code",
   "execution_count": 7,
   "metadata": {},
   "outputs": [],
   "source": [
    "with open(file_name, 'w') as f:\n",
    "    for tweet in search_results:\n",
    "        f.write(jsonpickle.encode(tweet._json, unpicklable=False) +\n",
    "                        '\\n')"
   ]
  },
  {
   "cell_type": "markdown",
   "metadata": {},
   "source": [
    "### Streaming API [[5]](#ref5)"
   ]
  },
  {
   "cell_type": "code",
   "execution_count": 8,
   "metadata": {},
   "outputs": [],
   "source": [
    "#override tweepy.StreamListener to add logic to on_status\n",
    "class MyStreamListener(tweepy.StreamListener):\n",
    "\n",
    "    def on_status(self, status):\n",
    "        print(status.text)"
   ]
  },
  {
   "cell_type": "code",
   "execution_count": 9,
   "metadata": {},
   "outputs": [],
   "source": [
    "myStreamListener = MyStreamListener\n",
    "myStream = tweepy.Stream(auth = api.auth, listener=myStreamListener())"
   ]
  },
  {
   "cell_type": "code",
   "execution_count": null,
   "metadata": {},
   "outputs": [],
   "source": [
    "myStream.filter(track=['worldcup'])"
   ]
  },
  {
   "cell_type": "markdown",
   "metadata": {},
   "source": [
    "\n",
    "## References"
   ]
  },
  {
   "cell_type": "markdown",
   "metadata": {},
   "source": [
    "<a id='ref1'></a>\n",
    "[1] https://developer.twitter.com/content/developer-twitter/en.html"
   ]
  },
  {
   "cell_type": "markdown",
   "metadata": {},
   "source": [
    "<a id='ref2'></a>\n",
    "[2] https://github.com/tweepy/tweepy"
   ]
  },
  {
   "cell_type": "markdown",
   "metadata": {},
   "source": [
    "<a id='ref3'></a>\n",
    "[3] https://developer.twitter.com/en/docs/tweets/search/api-reference/get-search-tweets.html"
   ]
  },
  {
   "cell_type": "markdown",
   "metadata": {},
   "source": [
    "<a id='ref4'></a>\n",
    "[4] https://jsonpickle.github.io/"
   ]
  },
  {
   "cell_type": "markdown",
   "metadata": {},
   "source": [
    "<a id='ref5'></a>\n",
    "[5] https://developer.twitter.com/en/docs/tutorials/consuming-streaming-data.html"
   ]
  }
 ],
 "metadata": {
  "kernelspec": {
   "display_name": "Python 3",
   "language": "python",
   "name": "python3"
  },
  "language_info": {
   "codemirror_mode": {
    "name": "ipython",
    "version": 3
   },
   "file_extension": ".py",
   "mimetype": "text/x-python",
   "name": "python",
   "nbconvert_exporter": "python",
   "pygments_lexer": "ipython3",
   "version": "3.6.3"
  }
 },
 "nbformat": 4,
 "nbformat_minor": 2
}
