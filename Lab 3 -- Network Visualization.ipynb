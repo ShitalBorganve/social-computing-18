{
 "cells": [
  {
   "cell_type": "code",
   "execution_count": 1,
   "metadata": {},
   "outputs": [],
   "source": [
    "import networkx as nx\n",
    "import matplotlib.pyplot as plt\n",
    "import pandas as pd\n",
    "import numpy as np"
   ]
  },
  {
   "cell_type": "markdown",
   "metadata": {},
   "source": [
    "Download the following network: [\"http://snap.stanford.edu/data/egonets-Facebook.html\"](http://snap.stanford.edu/data/egonets-Facebook.html)"
   ]
  },
  {
   "cell_type": "code",
   "execution_count": 2,
   "metadata": {},
   "outputs": [],
   "source": [
    "FG = nx.read_edgelist(\"resources/facebook_combined.txt\")"
   ]
  },
  {
   "cell_type": "code",
   "execution_count": 3,
   "metadata": {},
   "outputs": [],
   "source": [
    "nx.write_gexf(FG, \"facebook_combined.gexf\")"
   ]
  },
  {
   "cell_type": "markdown",
   "metadata": {},
   "source": [
    "# Task 1: Visualize the Facebook Graph:\n",
    "Use Gephi and customize the graph according to your personal preferences. Once you're satisfied, save the image in the PNG format and paste it in this notebook. \n",
    "\n",
    "What interesting observations are you able to make?"
   ]
  },
  {
   "cell_type": "markdown",
   "metadata": {},
   "source": [
    "# Task 2: Compute the following for the Facebook Graph:\n",
    "1. Number of Nodes\n",
    "2. Number of Edges\n",
    "3. Average Number of Triangles\n",
    "4. Average Clustering Coefficient\n",
    "5. Average Degree Centrality\n",
    "6. Average Betweenness Centrality\n",
    "7. Average Preferential Attachment Score between nodes"
   ]
  },
  {
   "cell_type": "markdown",
   "metadata": {},
   "source": [
    "# Task 3: Comparing with A Random Graph:\n",
    "1. Draw an [Erdos-Renyi Random Graph](https://networkx.github.io/documentation/networkx-1.10/reference/generated/networkx.generators.random_graphs.erdos_renyi_graph.html#networkx.generators.random_graphs.erdos_renyi_graph) using NetworkX having the same number of nodes as the Facebook graph. Set the probability parameter p = 0.01\n",
    "2. Compute the same 7 properties for this random graph that you computed for the Facebook graph. What observations can you draw from a comparative analysis? "
   ]
  },
  {
   "cell_type": "markdown",
   "metadata": {},
   "source": [
    "# Task 4 [if time permits/take home]: Draw Plots:\n",
    "Draw the plots of the degree distributions of the Facebook and Random Graphs."
   ]
  }
 ],
 "metadata": {
  "kernelspec": {
   "display_name": "Python 3",
   "language": "python",
   "name": "python3"
  },
  "language_info": {
   "codemirror_mode": {
    "name": "ipython",
    "version": 3
   },
   "file_extension": ".py",
   "mimetype": "text/x-python",
   "name": "python",
   "nbconvert_exporter": "python",
   "pygments_lexer": "ipython3",
   "version": "3.6.3"
  }
 },
 "nbformat": 4,
 "nbformat_minor": 2
}
